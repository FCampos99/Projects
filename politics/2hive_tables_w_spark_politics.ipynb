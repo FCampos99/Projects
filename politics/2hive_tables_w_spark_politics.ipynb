{
 "cells": [
  {
   "cell_type": "code",
   "execution_count": 1,
   "id": "governmental-sullivan",
   "metadata": {},
   "outputs": [],
   "source": [
    "from pyspark.sql import SparkSession\n",
    "from pyspark.sql import Row\n",
    "\n",
    "# warehouse_location points to the default location for managed databases and tables\n",
    "warehouse_location = 'hdfs://hdfs-nn:9000/warehouse'\n",
    "\n",
    "spark = SparkSession \\\n",
    "    .builder \\\n",
    "    .appName(\"Python Spark SQL Hive integration example\") \\\n",
    "    .config(\"spark.sql.warehouse.dir\", warehouse_location) \\\n",
    "    .config(\"hive.metastore.uris\", \"thrift://hive-metastore:9083\") \\\n",
    "    .enableHiveSupport() \\\n",
    "    .getOrCreate()"
   ]
  },
  {
   "cell_type": "code",
   "execution_count": 2,
   "id": "dominant-executive",
   "metadata": {},
   "outputs": [
    {
     "name": "stdout",
     "output_type": "stream",
     "text": [
      "+--------------+\n",
      "|     namespace|\n",
      "+--------------+\n",
      "|americancrimes|\n",
      "|       default|\n",
      "|       economy|\n",
      "|      politics|\n",
      "+--------------+\n",
      "\n"
     ]
    }
   ],
   "source": [
    "spark.sql(\n",
    "    \"\"\"\n",
    "    SHOW DATABASES\n",
    "    \"\"\"\n",
    "    \n",
    ").show()"
   ]
  },
  {
   "cell_type": "code",
   "execution_count": 3,
   "id": "outer-reminder",
   "metadata": {},
   "outputs": [
    {
     "name": "stdout",
     "output_type": "stream",
     "text": [
      "+--------------+\n",
      "|     namespace|\n",
      "+--------------+\n",
      "|americancrimes|\n",
      "|       default|\n",
      "|       economy|\n",
      "|      politics|\n",
      "+--------------+\n",
      "\n"
     ]
    }
   ],
   "source": [
    "spark.sql(\n",
    "    \"\"\"\n",
    "    SHOW DATABASES\n",
    "    \"\"\"\n",
    ").show()"
   ]
  },
  {
   "cell_type": "code",
   "execution_count": 4,
   "id": "massive-throw",
   "metadata": {},
   "outputs": [
    {
     "name": "stdout",
     "output_type": "stream",
     "text": [
      "+--------------+----------------+-----------+\n",
      "|      database|       tableName|isTemporary|\n",
      "+--------------+----------------+-----------+\n",
      "|americancrimes|civillian_deaths|      false|\n",
      "|americancrimes|    crime_by_age|      false|\n",
      "|americancrimes|   crime_by_race|      false|\n",
      "|americancrimes|          crimes|      false|\n",
      "|americancrimes|      demography|      false|\n",
      "|americancrimes|         economy|      false|\n",
      "|americancrimes|   police_deaths|      false|\n",
      "+--------------+----------------+-----------+\n",
      "\n"
     ]
    }
   ],
   "source": [
    "spark.sql(\n",
    "    \"\"\"\n",
    "    SHOW TABLES FROM americancrimes\n",
    "    \"\"\"\n",
    ").show()"
   ]
  },
  {
   "cell_type": "code",
   "execution_count": 5,
   "id": "solved-learning",
   "metadata": {},
   "outputs": [
    {
     "data": {
      "text/plain": [
       "DataFrame[]"
      ]
     },
     "execution_count": 5,
     "metadata": {},
     "output_type": "execute_result"
    }
   ],
   "source": [
    "spark.sql(\n",
    "    \"\"\"\n",
    "    DROP TABLE IF EXISTS americancrimes.politics\n",
    "    \"\"\"\n",
    ")\n",
    "\n",
    "spark.sql(\n",
    "    \"\"\"\n",
    "    CREATE TABLE americancrimes.politics (\n",
    "        state VARCHAR(70),\n",
    "        party VARCHAR(50),\n",
    "        candidatevotes INT,\n",
    "        totalvotes INT\n",
    "    )\n",
    "    STORED AS PARQUET\n",
    "    PARTITIONED BY (\n",
    "        year DATE\n",
    "    )\n",
    "    LOCATION 'hdfs://hdfs-nn:9000/warehouse/americancrimes.db/politics/'\n",
    "    \"\"\"\n",
    ")"
   ]
  },
  {
   "cell_type": "code",
   "execution_count": 6,
   "id": "innovative-commonwealth",
   "metadata": {},
   "outputs": [
    {
     "name": "stdout",
     "output_type": "stream",
     "text": [
      "+-----+-----+--------------+----------+----+\n",
      "|state|party|candidatevotes|totalvotes|year|\n",
      "+-----+-----+--------------+----------+----+\n",
      "+-----+-----+--------------+----------+----+\n",
      "\n"
     ]
    }
   ],
   "source": [
    "# recover partitions is needed so that the Hive Metastore (Catalog)\n",
    "# is updated. Otherwise Hive and the querying engines do not know\n",
    "# that there are new parittions in the partitioned table.\n",
    "spark.catalog.recoverPartitions(\"americancrimes.politics\")\n",
    "\n",
    "spark.sql(\n",
    "    \"\"\"\n",
    "    SELECT *\n",
    "    FROM americancrimes.politics\n",
    "    \"\"\"\n",
    ").show()"
   ]
  },
  {
   "cell_type": "code",
   "execution_count": null,
   "id": "surprised-crossing",
   "metadata": {},
   "outputs": [],
   "source": []
  },
  {
   "cell_type": "code",
   "execution_count": null,
   "id": "0179c18a",
   "metadata": {},
   "outputs": [],
   "source": []
  }
 ],
 "metadata": {
  "kernelspec": {
   "display_name": "Python 3",
   "language": "python",
   "name": "python3"
  },
  "language_info": {
   "codemirror_mode": {
    "name": "ipython",
    "version": 3
   },
   "file_extension": ".py",
   "mimetype": "text/x-python",
   "name": "python",
   "nbconvert_exporter": "python",
   "pygments_lexer": "ipython3",
   "version": "3.8.8"
  }
 },
 "nbformat": 4,
 "nbformat_minor": 5
}
