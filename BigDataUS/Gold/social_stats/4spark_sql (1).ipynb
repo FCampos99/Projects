{
 "cells": [
  {
   "cell_type": "code",
   "execution_count": 1,
   "id": "palestinian-istanbul",
   "metadata": {},
   "outputs": [],
   "source": [
    "# (1) Download databricks.spark.xml library \n",
    "# (2) https://repo1.maven.org/maven2/com/databricks/spark-xml_2.12/0.12.0/spark-xml_2.12-0.12.0.jar\n",
    "# (3) Upload jar file to HDFS root\n",
    "from pyspark.sql import SparkSession\n",
    "from pyspark.sql.functions import *\n",
    "warehouse_location = 'hdfs://hdfs-nn:9000/warehouse'\n",
    "spark = SparkSession \\\n",
    "    .builder \\\n",
    "    .appName(\"Python Spark SQL Hive integration example\") \\\n",
    "    .config(\"spark.sql.warehouse.dir\", warehouse_location) \\\n",
    "    .config(\"hive.metastore.uris\", \"thrift://hive-metastore:9083\") \\\n",
    "    .config(\"spark.jars\", \"hdfs://hdfs-nn:9000/spark-xml_2.12-0.12.0.jar\") \\\n",
    "    .enableHiveSupport() \\\n",
    "    .getOrCreate()"
   ]
  },
  {
   "cell_type": "code",
   "execution_count": 2,
   "id": "blocked-liability",
   "metadata": {},
   "outputs": [
    {
     "data": {
      "text/html": [
       "<div>\n",
       "<style scoped>\n",
       "    .dataframe tbody tr th:only-of-type {\n",
       "        vertical-align: middle;\n",
       "    }\n",
       "\n",
       "    .dataframe tbody tr th {\n",
       "        vertical-align: top;\n",
       "    }\n",
       "\n",
       "    .dataframe thead th {\n",
       "        text-align: right;\n",
       "    }\n",
       "</style>\n",
       "<table border=\"1\" class=\"dataframe\">\n",
       "  <thead>\n",
       "    <tr style=\"text-align: right;\">\n",
       "      <th></th>\n",
       "      <th>state</th>\n",
       "      <th>household_median_income</th>\n",
       "      <th>min_wage_state</th>\n",
       "      <th>min_wage_federal</th>\n",
       "      <th>cpi_average</th>\n",
       "      <th>unemployed</th>\n",
       "      <th>employed</th>\n",
       "      <th>employable_pop</th>\n",
       "      <th>gdp_state</th>\n",
       "      <th>year</th>\n",
       "    </tr>\n",
       "  </thead>\n",
       "  <tbody>\n",
       "  </tbody>\n",
       "</table>\n",
       "</div>"
      ],
      "text/plain": [
       "Empty DataFrame\n",
       "Columns: [state, household_median_income, min_wage_state, min_wage_federal, cpi_average, unemployed, employed, employable_pop, gdp_state, year]\n",
       "Index: []"
      ]
     },
     "execution_count": 2,
     "metadata": {},
     "output_type": "execute_result"
    }
   ],
   "source": [
    "economy = spark.sql(\n",
    "    \"\"\"\n",
    "    SELECT *\n",
    "    FROM americancrimes.economy\n",
    "    \"\"\"\n",
    ")\n",
    "economy.toPandas()"
   ]
  },
  {
   "cell_type": "code",
   "execution_count": 3,
   "id": "88567752",
   "metadata": {},
   "outputs": [
    {
     "data": {
      "text/html": [
       "<div>\n",
       "<style scoped>\n",
       "    .dataframe tbody tr th:only-of-type {\n",
       "        vertical-align: middle;\n",
       "    }\n",
       "\n",
       "    .dataframe tbody tr th {\n",
       "        vertical-align: top;\n",
       "    }\n",
       "\n",
       "    .dataframe thead th {\n",
       "        text-align: right;\n",
       "    }\n",
       "</style>\n",
       "<table border=\"1\" class=\"dataframe\">\n",
       "  <thead>\n",
       "    <tr style=\"text-align: right;\">\n",
       "      <th></th>\n",
       "      <th>state</th>\n",
       "      <th>party</th>\n",
       "      <th>candidatevotes</th>\n",
       "      <th>totalvotes</th>\n",
       "      <th>year</th>\n",
       "    </tr>\n",
       "  </thead>\n",
       "  <tbody>\n",
       "  </tbody>\n",
       "</table>\n",
       "</div>"
      ],
      "text/plain": [
       "Empty DataFrame\n",
       "Columns: [state, party, candidatevotes, totalvotes, year]\n",
       "Index: []"
      ]
     },
     "execution_count": 3,
     "metadata": {},
     "output_type": "execute_result"
    }
   ],
   "source": [
    "politics = spark.sql(\n",
    "    \"\"\"\n",
    "    SELECT *\n",
    "    FROM americancrimes.politics\n",
    "    \"\"\"\n",
    ")\n",
    "politics.toPandas()"
   ]
  },
  {
   "cell_type": "code",
   "execution_count": 4,
   "id": "6fcc51f1",
   "metadata": {},
   "outputs": [
    {
     "data": {
      "text/html": [
       "<div>\n",
       "<style scoped>\n",
       "    .dataframe tbody tr th:only-of-type {\n",
       "        vertical-align: middle;\n",
       "    }\n",
       "\n",
       "    .dataframe tbody tr th {\n",
       "        vertical-align: top;\n",
       "    }\n",
       "\n",
       "    .dataframe thead th {\n",
       "        text-align: right;\n",
       "    }\n",
       "</style>\n",
       "<table border=\"1\" class=\"dataframe\">\n",
       "  <thead>\n",
       "    <tr style=\"text-align: right;\">\n",
       "      <th></th>\n",
       "      <th>state_abb</th>\n",
       "      <th>state</th>\n",
       "      <th>total_pop</th>\n",
       "      <th>white</th>\n",
       "      <th>black</th>\n",
       "      <th>native</th>\n",
       "      <th>two_pop</th>\n",
       "      <th>asian_or_pacific_islander</th>\n",
       "      <th>year</th>\n",
       "    </tr>\n",
       "  </thead>\n",
       "  <tbody>\n",
       "  </tbody>\n",
       "</table>\n",
       "</div>"
      ],
      "text/plain": [
       "Empty DataFrame\n",
       "Columns: [state_abb, state, total_pop, white, black, native, two_pop, asian_or_pacific_islander, year]\n",
       "Index: []"
      ]
     },
     "execution_count": 4,
     "metadata": {},
     "output_type": "execute_result"
    }
   ],
   "source": [
    "demography = spark.sql(\n",
    "    \"\"\"\n",
    "    SELECT *\n",
    "    FROM americancrimes.demography\n",
    "    \"\"\"\n",
    ")\n",
    "demography.toPandas()"
   ]
  },
  {
   "cell_type": "code",
   "execution_count": 5,
   "id": "f032c684",
   "metadata": {},
   "outputs": [
    {
     "data": {
      "text/html": [
       "<div>\n",
       "<style scoped>\n",
       "    .dataframe tbody tr th:only-of-type {\n",
       "        vertical-align: middle;\n",
       "    }\n",
       "\n",
       "    .dataframe tbody tr th {\n",
       "        vertical-align: top;\n",
       "    }\n",
       "\n",
       "    .dataframe thead th {\n",
       "        text-align: right;\n",
       "    }\n",
       "</style>\n",
       "<table border=\"1\" class=\"dataframe\">\n",
       "  <thead>\n",
       "    <tr style=\"text-align: right;\">\n",
       "      <th></th>\n",
       "      <th>violent_crime</th>\n",
       "      <th>property_crime</th>\n",
       "      <th>state</th>\n",
       "      <th>state_abb</th>\n",
       "      <th>year</th>\n",
       "    </tr>\n",
       "  </thead>\n",
       "  <tbody>\n",
       "  </tbody>\n",
       "</table>\n",
       "</div>"
      ],
      "text/plain": [
       "Empty DataFrame\n",
       "Columns: [violent_crime, property_crime, state, state_abb, year]\n",
       "Index: []"
      ]
     },
     "execution_count": 5,
     "metadata": {},
     "output_type": "execute_result"
    }
   ],
   "source": [
    "crimes = spark.sql(\n",
    "    \"\"\"\n",
    "    SELECT *\n",
    "    FROM americancrimes.crimes\n",
    "    \"\"\"\n",
    ")\n",
    "crimes.toPandas()"
   ]
  },
  {
   "cell_type": "code",
   "execution_count": null,
   "id": "63adcd9f",
   "metadata": {},
   "outputs": [],
   "source": []
  },
  {
   "cell_type": "code",
   "execution_count": 6,
   "id": "5c300b91",
   "metadata": {},
   "outputs": [
    {
     "data": {
      "text/html": [
       "<div>\n",
       "<style scoped>\n",
       "    .dataframe tbody tr th:only-of-type {\n",
       "        vertical-align: middle;\n",
       "    }\n",
       "\n",
       "    .dataframe tbody tr th {\n",
       "        vertical-align: top;\n",
       "    }\n",
       "\n",
       "    .dataframe thead th {\n",
       "        text-align: right;\n",
       "    }\n",
       "</style>\n",
       "<table border=\"1\" class=\"dataframe\">\n",
       "  <thead>\n",
       "    <tr style=\"text-align: right;\">\n",
       "      <th></th>\n",
       "      <th>year</th>\n",
       "      <th>state</th>\n",
       "      <th>household_median_income</th>\n",
       "      <th>min_wage_state</th>\n",
       "      <th>gdp_state</th>\n",
       "      <th>min_wage_federal</th>\n",
       "      <th>cpi_average</th>\n",
       "      <th>unemployed</th>\n",
       "      <th>employed</th>\n",
       "      <th>employable_pop</th>\n",
       "      <th>gdp_state</th>\n",
       "      <th>party</th>\n",
       "      <th>candidatevotes</th>\n",
       "      <th>totalvotes</th>\n",
       "    </tr>\n",
       "  </thead>\n",
       "  <tbody>\n",
       "  </tbody>\n",
       "</table>\n",
       "</div>"
      ],
      "text/plain": [
       "Empty DataFrame\n",
       "Columns: [year, state, household_median_income, min_wage_state, gdp_state, min_wage_federal, cpi_average, unemployed, employed, employable_pop, gdp_state, party, candidatevotes, totalvotes]\n",
       "Index: []"
      ]
     },
     "execution_count": 6,
     "metadata": {},
     "output_type": "execute_result"
    }
   ],
   "source": [
    "join1 = economy.join(politics, (politics.year == economy.year) & (politics.state == economy.state), \"left_outer\").select(economy.year, economy.state, economy.household_median_income, economy.min_wage_state, economy.gdp_state, economy.min_wage_federal, economy.cpi_average, economy.unemployed, economy.employed, economy.employable_pop, economy.gdp_state, politics.party, politics.candidatevotes, politics.totalvotes)\n",
    "join1.toPandas()"
   ]
  },
  {
   "cell_type": "code",
   "execution_count": 7,
   "id": "00b617af",
   "metadata": {},
   "outputs": [
    {
     "data": {
      "text/html": [
       "<div>\n",
       "<style scoped>\n",
       "    .dataframe tbody tr th:only-of-type {\n",
       "        vertical-align: middle;\n",
       "    }\n",
       "\n",
       "    .dataframe tbody tr th {\n",
       "        vertical-align: top;\n",
       "    }\n",
       "\n",
       "    .dataframe thead th {\n",
       "        text-align: right;\n",
       "    }\n",
       "</style>\n",
       "<table border=\"1\" class=\"dataframe\">\n",
       "  <thead>\n",
       "    <tr style=\"text-align: right;\">\n",
       "      <th></th>\n",
       "      <th>year</th>\n",
       "      <th>state</th>\n",
       "      <th>household_median_income</th>\n",
       "      <th>min_wage_state</th>\n",
       "      <th>gdp_state</th>\n",
       "      <th>party</th>\n",
       "      <th>candidatevotes</th>\n",
       "      <th>totalvotes</th>\n",
       "      <th>violent_crime</th>\n",
       "      <th>property_crime</th>\n",
       "    </tr>\n",
       "  </thead>\n",
       "  <tbody>\n",
       "  </tbody>\n",
       "</table>\n",
       "</div>"
      ],
      "text/plain": [
       "Empty DataFrame\n",
       "Columns: [year, state, household_median_income, min_wage_state, gdp_state, party, candidatevotes, totalvotes, violent_crime, property_crime]\n",
       "Index: []"
      ]
     },
     "execution_count": 7,
     "metadata": {},
     "output_type": "execute_result"
    }
   ],
   "source": [
    "join2 = join1.join(crimes, (crimes.year == join1.year) & (crimes.state_abb == join1.state), \"left_outer\").select(join1.year, join1.state, join1.household_median_income, join1.min_wage_state, join1.gdp_state, join1.party, join1.candidatevotes, join1.totalvotes, crimes.violent_crime, crimes.property_crime)\n",
    "join2.toPandas()"
   ]
  },
  {
   "cell_type": "code",
   "execution_count": 8,
   "id": "d97a7293",
   "metadata": {},
   "outputs": [
    {
     "data": {
      "text/html": [
       "<div>\n",
       "<style scoped>\n",
       "    .dataframe tbody tr th:only-of-type {\n",
       "        vertical-align: middle;\n",
       "    }\n",
       "\n",
       "    .dataframe tbody tr th {\n",
       "        vertical-align: top;\n",
       "    }\n",
       "\n",
       "    .dataframe thead th {\n",
       "        text-align: right;\n",
       "    }\n",
       "</style>\n",
       "<table border=\"1\" class=\"dataframe\">\n",
       "  <thead>\n",
       "    <tr style=\"text-align: right;\">\n",
       "      <th></th>\n",
       "      <th>year</th>\n",
       "      <th>state</th>\n",
       "      <th>household_median_income</th>\n",
       "      <th>min_wage_state</th>\n",
       "      <th>gdp_state</th>\n",
       "      <th>party</th>\n",
       "      <th>candidatevotes</th>\n",
       "      <th>totalvotes</th>\n",
       "      <th>violent_crime</th>\n",
       "      <th>property_crime</th>\n",
       "      <th>total_pop</th>\n",
       "    </tr>\n",
       "  </thead>\n",
       "  <tbody>\n",
       "  </tbody>\n",
       "</table>\n",
       "</div>"
      ],
      "text/plain": [
       "Empty DataFrame\n",
       "Columns: [year, state, household_median_income, min_wage_state, gdp_state, party, candidatevotes, totalvotes, violent_crime, property_crime, total_pop]\n",
       "Index: []"
      ]
     },
     "execution_count": 8,
     "metadata": {},
     "output_type": "execute_result"
    }
   ],
   "source": [
    "join3 = join2.join(demography, (demography.year == join2.year) & (demography.state_abb == join2.state), \"left_outer\").select(join2.year, join2.state, join2.household_median_income, join2.min_wage_state, join2.gdp_state, join2.party, join2.candidatevotes, join2.totalvotes, join2.violent_crime, join2.property_crime, demography.total_pop)\n",
    "join3.toPandas()"
   ]
  },
  {
   "cell_type": "code",
   "execution_count": 9,
   "id": "b02a1448",
   "metadata": {},
   "outputs": [
    {
     "name": "stdout",
     "output_type": "stream",
     "text": [
      "root\n",
      " |-- year: date (nullable = true)\n",
      " |-- state: string (nullable = true)\n",
      " |-- household_median_income: float (nullable = false)\n",
      " |-- min_wage_state: float (nullable = false)\n",
      " |-- gdp_state: float (nullable = false)\n",
      " |-- party: string (nullable = true)\n",
      " |-- candidatevotes: integer (nullable = true)\n",
      " |-- totalvotes: integer (nullable = true)\n",
      " |-- violent_crime: integer (nullable = true)\n",
      " |-- property_crime: integer (nullable = true)\n",
      " |-- total_pop: integer (nullable = true)\n",
      "\n"
     ]
    }
   ],
   "source": [
    "join3 = join3.fillna(0)\n",
    "join3.toPandas()\n",
    "join3.printSchema()"
   ]
  },
  {
   "cell_type": "code",
   "execution_count": 10,
   "id": "9e5ffd89",
   "metadata": {},
   "outputs": [
    {
     "data": {
      "text/html": [
       "<div>\n",
       "<style scoped>\n",
       "    .dataframe tbody tr th:only-of-type {\n",
       "        vertical-align: middle;\n",
       "    }\n",
       "\n",
       "    .dataframe tbody tr th {\n",
       "        vertical-align: top;\n",
       "    }\n",
       "\n",
       "    .dataframe thead th {\n",
       "        text-align: right;\n",
       "    }\n",
       "</style>\n",
       "<table border=\"1\" class=\"dataframe\">\n",
       "  <thead>\n",
       "    <tr style=\"text-align: right;\">\n",
       "      <th></th>\n",
       "      <th>year</th>\n",
       "      <th>state</th>\n",
       "      <th>household_median_income</th>\n",
       "      <th>min_wage_state</th>\n",
       "      <th>gdp_state</th>\n",
       "      <th>party</th>\n",
       "      <th>candidatevotes</th>\n",
       "      <th>totalvotes</th>\n",
       "      <th>violent_crime</th>\n",
       "      <th>property_crime</th>\n",
       "      <th>total_pop</th>\n",
       "      <th>party_results_ratio</th>\n",
       "      <th>crimes_100k</th>\n",
       "    </tr>\n",
       "  </thead>\n",
       "  <tbody>\n",
       "  </tbody>\n",
       "</table>\n",
       "</div>"
      ],
      "text/plain": [
       "Empty DataFrame\n",
       "Columns: [year, state, household_median_income, min_wage_state, gdp_state, party, candidatevotes, totalvotes, violent_crime, property_crime, total_pop, party_results_ratio, crimes_100k]\n",
       "Index: []"
      ]
     },
     "execution_count": 10,
     "metadata": {},
     "output_type": "execute_result"
    }
   ],
   "source": [
    "derivada1 = join3.withColumn(\"party_results_ratio\", round((col(\"candidatevotes\")/col(\"totalvotes\"))*100, 2))\n",
    "derivada2 = derivada1.withColumn(\"crimes_100k\", (col(\"property_crime\") + (col(\"violent_crime\")))/col(\"total_pop\")*100000) \\\n",
    "                     .withColumn(\"gdp_state\", (col(\"gdp_state\") * 1000000))\n",
    "derivada2.toPandas()"
   ]
  },
  {
   "cell_type": "code",
   "execution_count": 11,
   "id": "c357a4f5",
   "metadata": {},
   "outputs": [
    {
     "data": {
      "text/html": [
       "<div>\n",
       "<style scoped>\n",
       "    .dataframe tbody tr th:only-of-type {\n",
       "        vertical-align: middle;\n",
       "    }\n",
       "\n",
       "    .dataframe tbody tr th {\n",
       "        vertical-align: top;\n",
       "    }\n",
       "\n",
       "    .dataframe thead th {\n",
       "        text-align: right;\n",
       "    }\n",
       "</style>\n",
       "<table border=\"1\" class=\"dataframe\">\n",
       "  <thead>\n",
       "    <tr style=\"text-align: right;\">\n",
       "      <th></th>\n",
       "      <th>year</th>\n",
       "      <th>state</th>\n",
       "      <th>household_median_income</th>\n",
       "      <th>min_wage_state</th>\n",
       "      <th>gdp_state</th>\n",
       "      <th>party</th>\n",
       "      <th>candidatevotes</th>\n",
       "      <th>totalvotes</th>\n",
       "      <th>violent_crime</th>\n",
       "      <th>property_crime</th>\n",
       "      <th>total_pop</th>\n",
       "      <th>party_results_ratio</th>\n",
       "      <th>crimes_100k</th>\n",
       "    </tr>\n",
       "  </thead>\n",
       "  <tbody>\n",
       "  </tbody>\n",
       "</table>\n",
       "</div>"
      ],
      "text/plain": [
       "Empty DataFrame\n",
       "Columns: [year, state, household_median_income, min_wage_state, gdp_state, party, candidatevotes, totalvotes, violent_crime, property_crime, total_pop, party_results_ratio, crimes_100k]\n",
       "Index: []"
      ]
     },
     "execution_count": 11,
     "metadata": {},
     "output_type": "execute_result"
    }
   ],
   "source": [
    "us_state_abbrev = {\n",
    "    'AL': 'US-AL',\n",
    "    'AK': 'US-AK',\n",
    "    'AZ': 'US-AZ',\n",
    "    'AR': 'US-AR',\n",
    "    'CA': 'US-CA',\n",
    "    'CO': 'US-CO',\n",
    "    'CT': 'US-CT',\n",
    "    'DE': 'US-DE',\n",
    "    'DC': 'US-DC',\n",
    "    'FL': 'US-FL',\n",
    "    'GA': 'US-GA',\n",
    "    'HI': 'US-HI',\n",
    "    'ID': 'US-ID',\n",
    "    'IL': 'US-IL',\n",
    "    'IN': 'US-IN',\n",
    "    'IA': 'US-IA',\n",
    "    'KS': 'US-KS',\n",
    "    'KY': 'US-KY',\n",
    "    'LA': 'US-LA',\n",
    "    'ME': 'US-ME',\n",
    "    'MD': 'US-MD',\n",
    "    'MA': 'US-MA',\n",
    "    'MI': 'US-MI',\n",
    "    'MN': 'US-MN',\n",
    "    'MS': 'US-MS',\n",
    "    'MO': 'US-MO',\n",
    "    'MT': 'US-MT',\n",
    "    'NE': 'US-NE',\n",
    "    'NV': 'US-NV',\n",
    "    'NH': 'US-NH',\n",
    "    'NJ': 'US-NJ',\n",
    "    'NM': 'US-NM',\n",
    "    'NY': 'US-NY',\n",
    "    'NC': 'US-NC',\n",
    "    'ND': 'US-ND',\n",
    "    'OH': 'US-OH',\n",
    "    'OK': 'US-OK',\n",
    "    'OR': 'US-OR',\n",
    "    'PA': 'US-PA',\n",
    "    'RI': 'US-RI',\n",
    "    'SC': 'US-SC',\n",
    "    'SD': 'US-SD',\n",
    "    'TN': 'US-TN',\n",
    "    'TX': 'US-TX',\n",
    "    'UT': 'US-UT',\n",
    "    'VT': 'US-VT',\n",
    "    'VA': 'US-VA',\n",
    "    'WA': 'US-WA',\n",
    "    'WV': 'US-WV',\n",
    "    'WI': 'US-WI',\n",
    "    'WY': 'US-WY'\n",
    "}\n",
    "\n",
    "\n",
    "abbrev_us_state = dict(map(reversed, us_state_abbrev.items()))\n",
    "\n",
    "derivada2 = derivada2.replace(to_replace=us_state_abbrev, subset=['state'])\n",
    "\n",
    "derivada2.toPandas()"
   ]
  },
  {
   "cell_type": "code",
   "execution_count": 12,
   "id": "3e607178",
   "metadata": {},
   "outputs": [
    {
     "name": "stdout",
     "output_type": "stream",
     "text": [
      "root\n",
      " |-- year: date (nullable = true)\n",
      " |-- state: string (nullable = true)\n",
      " |-- household_median_income: float (nullable = false)\n",
      " |-- min_wage_state: float (nullable = false)\n",
      " |-- gdp_state: float (nullable = false)\n",
      " |-- party: string (nullable = true)\n",
      " |-- candidatevotes: integer (nullable = true)\n",
      " |-- totalvotes: integer (nullable = true)\n",
      " |-- violent_crime: integer (nullable = true)\n",
      " |-- property_crime: integer (nullable = true)\n",
      " |-- total_pop: integer (nullable = true)\n",
      " |-- party_results_ratio: double (nullable = true)\n",
      " |-- crimes_100k: double (nullable = true)\n",
      "\n"
     ]
    }
   ],
   "source": [
    "derivada2.printSchema()"
   ]
  },
  {
   "cell_type": "code",
   "execution_count": 13,
   "id": "d1aee1b5",
   "metadata": {},
   "outputs": [
    {
     "data": {
      "text/html": [
       "<div>\n",
       "<style scoped>\n",
       "    .dataframe tbody tr th:only-of-type {\n",
       "        vertical-align: middle;\n",
       "    }\n",
       "\n",
       "    .dataframe tbody tr th {\n",
       "        vertical-align: top;\n",
       "    }\n",
       "\n",
       "    .dataframe thead th {\n",
       "        text-align: right;\n",
       "    }\n",
       "</style>\n",
       "<table border=\"1\" class=\"dataframe\">\n",
       "  <thead>\n",
       "    <tr style=\"text-align: right;\">\n",
       "      <th></th>\n",
       "      <th>state</th>\n",
       "      <th>household_median_income</th>\n",
       "      <th>min_wage_state</th>\n",
       "      <th>gdp_state</th>\n",
       "      <th>candidatevotes</th>\n",
       "      <th>totalvotes</th>\n",
       "      <th>violent_crime</th>\n",
       "      <th>property_crime</th>\n",
       "      <th>total_pop</th>\n",
       "      <th>party</th>\n",
       "      <th>party_results_ratio</th>\n",
       "      <th>crimes_100k</th>\n",
       "      <th>year</th>\n",
       "    </tr>\n",
       "  </thead>\n",
       "  <tbody>\n",
       "  </tbody>\n",
       "</table>\n",
       "</div>"
      ],
      "text/plain": [
       "Empty DataFrame\n",
       "Columns: [state, household_median_income, min_wage_state, gdp_state, candidatevotes, totalvotes, violent_crime, property_crime, total_pop, party, party_results_ratio, crimes_100k, year]\n",
       "Index: []"
      ]
     },
     "execution_count": 13,
     "metadata": {},
     "output_type": "execute_result"
    }
   ],
   "source": [
    "# Reorder data\n",
    "data =  derivada2.select(\n",
    "        \"state\",\n",
    "        \"household_median_income\",\n",
    "        \"min_wage_state\",\n",
    "        'gdp_state'\n",
    ",'candidatevotes'\n",
    ",'totalvotes'\n",
    ",'violent_crime'\n",
    ",'property_crime'\n",
    ",'total_pop'\n",
    "    ,'party'\n",
    ",'party_results_ratio'\n",
    ",'crimes_100k', \"year\")\n",
    "data.toPandas()"
   ]
  },
  {
   "cell_type": "code",
   "execution_count": 14,
   "id": "b1f4bbe1",
   "metadata": {},
   "outputs": [],
   "source": [
    "data.repartition(1) \\\n",
    "    .write \\\n",
    "    .partitionBy(\"year\") \\\n",
    "    .format(\"parquet\") \\\n",
    "    .mode(\"overwrite\") \\\n",
    "    .save(\"hdfs://hdfs-nn:9000/warehouse/americancrimes.db/derived_social_stats/\")\n"
   ]
  },
  {
   "cell_type": "code",
   "execution_count": 15,
   "id": "de93bb06",
   "metadata": {},
   "outputs": [
    {
     "data": {
      "text/html": [
       "<div>\n",
       "<style scoped>\n",
       "    .dataframe tbody tr th:only-of-type {\n",
       "        vertical-align: middle;\n",
       "    }\n",
       "\n",
       "    .dataframe tbody tr th {\n",
       "        vertical-align: top;\n",
       "    }\n",
       "\n",
       "    .dataframe thead th {\n",
       "        text-align: right;\n",
       "    }\n",
       "</style>\n",
       "<table border=\"1\" class=\"dataframe\">\n",
       "  <thead>\n",
       "    <tr style=\"text-align: right;\">\n",
       "      <th></th>\n",
       "      <th>state</th>\n",
       "      <th>household_median_income</th>\n",
       "      <th>min_wage_state</th>\n",
       "      <th>gdp_state</th>\n",
       "      <th>candidatevotes</th>\n",
       "      <th>totalvotes</th>\n",
       "      <th>violent_crime</th>\n",
       "      <th>property_crime</th>\n",
       "      <th>total_pop</th>\n",
       "      <th>party</th>\n",
       "      <th>party_results_ratio</th>\n",
       "      <th>crimes_100k</th>\n",
       "      <th>year</th>\n",
       "    </tr>\n",
       "  </thead>\n",
       "  <tbody>\n",
       "  </tbody>\n",
       "</table>\n",
       "</div>"
      ],
      "text/plain": [
       "Empty DataFrame\n",
       "Columns: [state, household_median_income, min_wage_state, gdp_state, candidatevotes, totalvotes, violent_crime, property_crime, total_pop, party, party_results_ratio, crimes_100k, year]\n",
       "Index: []"
      ]
     },
     "execution_count": 15,
     "metadata": {},
     "output_type": "execute_result"
    }
   ],
   "source": [
    "spark.catalog.recoverPartitions(\"americancrimes.derived_social_stats\")\n",
    "\n",
    "spark.sql(\n",
    "    \"\"\"\n",
    "    SELECT *\n",
    "    FROM americancrimes.derived_social_stats\n",
    "    \"\"\"\n",
    ").toPandas()"
   ]
  },
  {
   "cell_type": "code",
   "execution_count": null,
   "id": "92bec7b7",
   "metadata": {},
   "outputs": [],
   "source": []
  }
 ],
 "metadata": {
  "kernelspec": {
   "display_name": "Python 3",
   "language": "python",
   "name": "python3"
  },
  "language_info": {
   "codemirror_mode": {
    "name": "ipython",
    "version": 3
   },
   "file_extension": ".py",
   "mimetype": "text/x-python",
   "name": "python",
   "nbconvert_exporter": "python",
   "pygments_lexer": "ipython3",
   "version": "3.8.8"
  }
 },
 "nbformat": 4,
 "nbformat_minor": 5
}
